{
 "cells": [
  {
   "cell_type": "markdown",
   "id": "252f39a1-c75f-4e52-9a6e-fb98cffe1b61",
   "metadata": {},
   "source": [
    "# Initialize GPG\n",
    "\n",
    "### Set the GPG directory\n",
    "\n",
    "Using the [XDG Base Directory](https://wiki.archlinux.org/title/XDG_Base_Directory) locations for as many configuration files and output files (like keys, etc..) as possibles.\n",
    "\n",
    "To configure the GnuPG in the config directory, set the `GNUPGHOME` environment variable using the [GnuPG Environment Documentation](https://www.gnupg.org/documentation/manuals/gnupg/gpgv.html#Environment) documentation.\n",
    "\n",
    "### Export (and view) the environment variable"
   ]
  },
  {
   "cell_type": "code",
   "execution_count": 1,
   "id": "cb48780f-9f8e-4015-bd5f-2b4ce21ec03d",
   "metadata": {
    "tags": []
   },
   "outputs": [
    {
     "name": "stdout",
     "output_type": "stream",
     "text": [
      "/home/jovyan/runtime/gpg\n",
      "/home/jovyan/runtime/password-store\n"
     ]
    }
   ],
   "source": [
    "echo $GNUPGHOME\n",
    "echo $PASSWORD_STORE_DIR"
   ]
  },
  {
   "cell_type": "markdown",
   "id": "8b092b48-a113-4e2a-80cd-334cc7b59ea7",
   "metadata": {
    "tags": []
   },
   "source": [
    "### Create the directory"
   ]
  },
  {
   "cell_type": "code",
   "execution_count": 2,
   "id": "e2ae4b11-a64c-486b-a03f-33ca9cf85cdc",
   "metadata": {
    "tags": []
   },
   "outputs": [
    {
     "name": "stdout",
     "output_type": "stream",
     "text": [
      "mkdir: created directory '/home/jovyan/runtime/gpg'\n"
     ]
    }
   ],
   "source": [
    "mkdir --parents --verbose $GNUPGHOME"
   ]
  },
  {
   "cell_type": "markdown",
   "id": "af4c89eb-f1f8-4e38-85fb-d49fd409be7f",
   "metadata": {
    "tags": []
   },
   "source": [
    "### Set proper permissions on the `$GNUPGHOME` directory"
   ]
  },
  {
   "cell_type": "code",
   "execution_count": 3,
   "id": "84860adb-c87f-45e6-a564-02c8164d2bfe",
   "metadata": {
    "tags": []
   },
   "outputs": [
    {
     "name": "stdout",
     "output_type": "stream",
     "text": [
      "chmod --verbose 700 /home/jovyan/runtime/gpg\n",
      "mode of '/home/jovyan/runtime/gpg' changed from 0755 (rwxr-xr-x) to 0700 (rwx------)\n"
     ]
    }
   ],
   "source": [
    "find $GNUPGHOME -type d | xargs -t chmod --verbose 700"
   ]
  },
  {
   "cell_type": "markdown",
   "id": "a5cf075d-9826-469e-883a-d1b41b3a30fd",
   "metadata": {},
   "source": [
    "### View the unattended configuration file\n",
    "\n",
    "Creating a configuration file using the GnuPG [Unattended key generation](https://www.gnupg.org/documentation/manuals/gnupg/Unattended-GPG-key-generation.html#Unattended-GPG-key-generation) mode."
   ]
  },
  {
   "cell_type": "code",
   "execution_count": 4,
   "id": "2fedeb25-0b1f-48f8-9d32-2852a2a80dfe",
   "metadata": {
    "tags": []
   },
   "outputs": [
    {
     "name": "stdout",
     "output_type": "stream",
     "text": [
      "%echo Generating a default key\n",
      "Key-Type: default\n",
      "Key-Length: 4096\n",
      "Subkey-Type: default\n",
      "Subkey-Length: 4096\n",
      "Name-Real: Crypto User\n",
      "Name-Comment: The GPG keys used for this tutorial.\n",
      "Name-Email: crypto.user@server.com\n",
      "Expire-Date: 0\n",
      "# Passphrase: abc\n",
      "%no-protection\n",
      "# Do a commit here, so that we can later print \"done\" :-)\n",
      "%commit\n",
      "%echo done\n"
     ]
    }
   ],
   "source": [
    "cat $WORK_DIR/gpg/batch.txt"
   ]
  },
  {
   "cell_type": "markdown",
   "id": "32a5d606-d1da-47ba-81bc-1fbf39eeba38",
   "metadata": {},
   "source": [
    "### Create the GPG key"
   ]
  },
  {
   "cell_type": "code",
   "execution_count": 5,
   "id": "43ec080e-db33-49ce-b8a9-011399906203",
   "metadata": {
    "tags": []
   },
   "outputs": [
    {
     "name": "stdout",
     "output_type": "stream",
     "text": [
      "gpg: keybox '/home/jovyan/runtime/gpg/pubring.kbx' created\n",
      "gpg: Generating a default key\n",
      "gpg: no running gpg-agent - starting '/usr/bin/gpg-agent'\n",
      "gpg: waiting for the agent to come up ... (5s)\n",
      "gpg: connection to agent established\n",
      "gpg: writing self signature\n",
      "gpg: RSA/SHA512 signature from: \"AD5EF3CDE0F54AC2 [?]\"\n",
      "gpg: writing key binding signature\n",
      "gpg: RSA/SHA512 signature from: \"AD5EF3CDE0F54AC2 [?]\"\n",
      "gpg: writing public key to '/home/jovyan/runtime/gpg/pubring.kbx'\n",
      "gpg: /home/jovyan/runtime/gpg/trustdb.gpg: trustdb created\n",
      "gpg: using pgp trust model\n",
      "gpg: key AD5EF3CDE0F54AC2 marked as ultimately trusted\n",
      "gpg: directory '/home/jovyan/runtime/gpg/openpgp-revocs.d' created\n",
      "gpg: writing to '/home/jovyan/runtime/gpg/openpgp-revocs.d/DC730069CBFD1344878C91C2AD5EF3CDE0F54AC2.rev'\n",
      "gpg: RSA/SHA512 signature from: \"AD5EF3CDE0F54AC2 Crypto User (The GPG keys used for this tutorial.) <crypto.user@server.com>\"\n",
      "gpg: revocation certificate stored as '/home/jovyan/runtime/gpg/openpgp-revocs.d/DC730069CBFD1344878C91C2AD5EF3CDE0F54AC2.rev'\n",
      "gpg: done\n"
     ]
    }
   ],
   "source": [
    "gpg --verbose --generate-key --batch $WORK_DIR/gpg/batch.txt"
   ]
  },
  {
   "cell_type": "markdown",
   "id": "53068657-7ac0-4fe5-9ac7-fa4545c10176",
   "metadata": {},
   "source": [
    "### View the output"
   ]
  },
  {
   "cell_type": "code",
   "execution_count": 6,
   "id": "8fd7a560-bf5e-484e-aede-8cfc7602913a",
   "metadata": {
    "tags": []
   },
   "outputs": [
    {
     "name": "stdout",
     "output_type": "stream",
     "text": [
      "total 28\n",
      "drwx------ 1 jovyan dialout  224 Apr 24 20:51 .\n",
      "drwxr-xr-x 1 jovyan dialout   96 Apr 24 20:51 ..\n",
      "drwx------ 1 jovyan dialout   96 Apr 24 20:51 openpgp-revocs.d\n",
      "drwx------ 1 jovyan dialout  128 Apr 24 20:51 private-keys-v1.d\n",
      "-rw-r--r-- 1 jovyan dialout 2517 Apr 24 20:51 pubring.kbx\n",
      "-rw------- 1 jovyan dialout   32 Apr 24 20:51 pubring.kbx~\n",
      "-rw------- 1 jovyan dialout 1240 Apr 24 20:51 trustdb.gpg\n"
     ]
    }
   ],
   "source": [
    "ls -la $GNUPGHOME"
   ]
  },
  {
   "cell_type": "markdown",
   "id": "d9d26214-5aa2-427c-84cb-8cecc80a6013",
   "metadata": {
    "tags": []
   },
   "source": [
    "### Set proper permissions on the `$GNUPGHOME` directory (and created sub directories)"
   ]
  },
  {
   "cell_type": "code",
   "execution_count": 7,
   "id": "03ac91d8-5ed1-41f5-ae06-1a6442111d29",
   "metadata": {
    "tags": []
   },
   "outputs": [
    {
     "name": "stdout",
     "output_type": "stream",
     "text": [
      "chmod --verbose 700 /home/jovyan/runtime/gpg /home/jovyan/runtime/gpg/private-keys-v1.d /home/jovyan/runtime/gpg/openpgp-revocs.d\n",
      "mode of '/home/jovyan/runtime/gpg' retained as 0700 (rwx------)\n",
      "mode of '/home/jovyan/runtime/gpg/private-keys-v1.d' retained as 0700 (rwx------)\n",
      "mode of '/home/jovyan/runtime/gpg/openpgp-revocs.d' retained as 0700 (rwx------)\n"
     ]
    }
   ],
   "source": [
    "find $GNUPGHOME -type d | xargs -t chmod --verbose 700"
   ]
  },
  {
   "cell_type": "markdown",
   "id": "d650bce5-feab-472d-8cb2-690af8f6a3b9",
   "metadata": {},
   "source": [
    "### Set proper permissions on the GPG key (and created files)"
   ]
  },
  {
   "cell_type": "code",
   "execution_count": null,
   "id": "067fe97e-9deb-4f3f-b8e4-90c37deb26fd",
   "metadata": {
    "tags": []
   },
   "outputs": [],
   "source": [
    "find $GNUPGHOME -type f | xargs -t chmod --verbose 600"
   ]
  },
  {
   "cell_type": "markdown",
   "id": "62dea179-e1ec-4ed1-a9e2-e5b9fcfdc13e",
   "metadata": {
    "tags": []
   },
   "source": [
    "# Initialize password-store\n",
    "\n",
    "Reference [password-store Documentation Environment Variables](https://git.zx2c4.com/password-store/about/)"
   ]
  },
  {
   "cell_type": "markdown",
   "id": "63616648-78fd-46fb-8577-0b01b95c2776",
   "metadata": {
    "tags": []
   },
   "source": [
    "### Create the directory"
   ]
  },
  {
   "cell_type": "code",
   "execution_count": 9,
   "id": "4f5f3a16-ceef-4e1d-8b1e-c9c0dc3ca935",
   "metadata": {
    "tags": []
   },
   "outputs": [
    {
     "name": "stdout",
     "output_type": "stream",
     "text": [
      "mkdir: created directory '/home/jovyan/runtime/password-store'\n"
     ]
    }
   ],
   "source": [
    "mkdir --parent --verbose $PASSWORD_STORE_DIR"
   ]
  },
  {
   "cell_type": "markdown",
   "id": "cd921445-6548-46a1-95de-1a1dcf6e7aaa",
   "metadata": {},
   "source": [
    "### Initialize the store with the GPG key"
   ]
  },
  {
   "cell_type": "code",
   "execution_count": 10,
   "id": "d671ef31-fe26-4377-986f-76c576ee283a",
   "metadata": {
    "tags": []
   },
   "outputs": [
    {
     "name": "stdout",
     "output_type": "stream",
     "text": [
      "Password store initialized for crypto.user@server.com\n"
     ]
    }
   ],
   "source": [
    "pass init crypto.user@server.com"
   ]
  },
  {
   "cell_type": "markdown",
   "id": "14d6663c-c4a4-4aad-a380-c3cae3381ec7",
   "metadata": {},
   "source": [
    "### Generate user password and add it to store\n",
    "\n",
    "[pwgen man page](https://linux.die.net/man/1/pwgen), [password-store](https://www.passwordstore.org/)"
   ]
  },
  {
   "cell_type": "code",
   "execution_count": 11,
   "id": "5400a188-fd9c-4218-a86d-7ba52236890d",
   "metadata": {
    "tags": []
   },
   "outputs": [
    {
     "name": "stdout",
     "output_type": "stream",
     "text": [
      "tr: write error: Broken pipe\n",
      "tr: write error\n",
      "\u001b[1mThe generated password for \u001b[4muser-password\u001b[24m is:\u001b[0m\n",
      "\u001b[1m\u001b[93mvcbZPWoSvukzopidC8EF\u001b[0m\n"
     ]
    }
   ],
   "source": [
    "pass generate user-password 20 --no-symbols"
   ]
  },
  {
   "cell_type": "markdown",
   "id": "fcb0eb96-6d8b-4efc-a246-bed1b2a00f4d",
   "metadata": {},
   "source": [
    "### Veiw the password"
   ]
  },
  {
   "cell_type": "code",
   "execution_count": 12,
   "id": "aa1510b4-e963-4aa4-b39f-613b38aa9e17",
   "metadata": {
    "tags": []
   },
   "outputs": [
    {
     "name": "stdout",
     "output_type": "stream",
     "text": [
      "vcbZPWoSvukzopidC8EF\n"
     ]
    }
   ],
   "source": [
    "pass user-password"
   ]
  },
  {
   "cell_type": "code",
   "execution_count": null,
   "id": "72696264-3d61-4523-b4bd-0cb0c9cb897c",
   "metadata": {},
   "outputs": [],
   "source": []
  }
 ],
 "metadata": {
  "kernelspec": {
   "display_name": "Bash",
   "language": "bash",
   "name": "bash"
  },
  "language_info": {
   "codemirror_mode": "shell",
   "file_extension": ".sh",
   "mimetype": "text/x-sh",
   "name": "bash"
  }
 },
 "nbformat": 4,
 "nbformat_minor": 5
}
