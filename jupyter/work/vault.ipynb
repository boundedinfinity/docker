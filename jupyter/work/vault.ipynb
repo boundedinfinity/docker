{
 "cells": [
  {
   "cell_type": "markdown",
   "id": "d83b6699-9cb5-4d95-b74f-25836d8c5030",
   "metadata": {},
   "source": [
    "# Initialize Hashicorp Vault cluster\n",
    "\n",
    "- [docker container](https://hub.docker.com/_/vault)\n",
    "- [Vault configuration file](https://developer.hashicorp.com/vault/docs/configuration)\n",
    "- [envsubst manual](https://www.gnu.org/software/gettext/manual/html_node/envsubst-Invocation.html)\n",
    "- [Docker Compose: Use a pre-existing network](https://docs.docker.com/compose/networking/#use-a-pre-existing-network)\n",
    "- [xargs manual](https://man7.org/linux/man-pages/man1/xargs.1.html)\n",
    "- [jq manual](https://devdocs.io/jq/)\n",
    "- [tee manual](https://man7.org/linux/man-pages/man1/tee.1.html)\n",
    "- [tr manual](https://man7.org/linux/man-pages/man1/tr.1.html)\n",
    "- [sed manual](https://man7.org/linux/man-pages/man1/sed.1.html)"
   ]
  },
  {
   "cell_type": "code",
   "execution_count": null,
   "id": "90911150-ea8b-433f-910b-dec97a8d818e",
   "metadata": {
    "tags": []
   },
   "outputs": [],
   "source": [
    "echo $GNUPGHOME\n",
    "echo $PASSWORD_STORE_DIR\n",
    "echo $EXT_RUNTIME_DIR"
   ]
  },
  {
   "cell_type": "code",
   "execution_count": null,
   "id": "b4d2680c-79e2-4a7e-bd23-8186781d7a7e",
   "metadata": {
    "tags": []
   },
   "outputs": [],
   "source": [
    "export NODE=vault1 && echo $NODE"
   ]
  },
  {
   "cell_type": "code",
   "execution_count": null,
   "id": "65fca9aa-733c-43b5-b415-2326a7a04778",
   "metadata": {
    "tags": []
   },
   "outputs": [],
   "source": [
    "mkdir --parent --verbose $RUNTIME_DIR/$NODE/{config,logs,data}"
   ]
  },
  {
   "cell_type": "code",
   "execution_count": null,
   "id": "e3bf2196-04d7-421e-97f7-b17a78085c61",
   "metadata": {
    "tags": []
   },
   "outputs": [],
   "source": [
    "cat $WORK_DIR/vault/config.etmpl.hcl | envsubst | tee $RUNTIME_DIR/$NODE/config/config.hcl"
   ]
  },
  {
   "cell_type": "code",
   "execution_count": null,
   "id": "3caa355c-90c8-40f4-aba0-0a769c2bfb2b",
   "metadata": {
    "tags": []
   },
   "outputs": [],
   "source": [
    "cat $WORK_DIR/vault/docker-compose.etmpl.yaml | envsubst | tee $RUNTIME_DIR/$NODE/docker-compose.yaml"
   ]
  },
  {
   "cell_type": "code",
   "execution_count": null,
   "id": "7db45cee-506d-4f10-9c67-e0bb03d957fd",
   "metadata": {
    "tags": []
   },
   "outputs": [],
   "source": [
    "cd $RUNTIME_DIR/$NODE && sudo docker compose up -d $NODE"
   ]
  },
  {
   "cell_type": "code",
   "execution_count": null,
   "id": "ed192e4d-3b4c-49b9-8a05-2a4b2584bfc8",
   "metadata": {
    "tags": []
   },
   "outputs": [],
   "source": [
    "export VAULT_ADDR=http://$NODE:8200 && echo $VAULT_ADDR"
   ]
  },
  {
   "cell_type": "code",
   "execution_count": null,
   "id": "f6d71232-3212-49dd-805e-7e16c73fbb9b",
   "metadata": {
    "tags": []
   },
   "outputs": [],
   "source": [
    "ping -c 3 vault1"
   ]
  },
  {
   "cell_type": "markdown",
   "id": "7f9e3f6b-3d3a-46aa-9105-31d98254a795",
   "metadata": {},
   "source": [
    "### NOTE\n",
    "    This may take a few seconds"
   ]
  },
  {
   "cell_type": "code",
   "execution_count": null,
   "id": "bcb52c05-c7d8-423c-ab6b-cdd195f170a3",
   "metadata": {
    "tags": []
   },
   "outputs": [],
   "source": [
    "vault operator init --format=json | tee $RUNTIME_DIR/init.json"
   ]
  },
  {
   "cell_type": "code",
   "execution_count": null,
   "id": "537e8fea-5641-4ae9-aa8c-03c3fdb5b7df",
   "metadata": {
    "tags": []
   },
   "outputs": [],
   "source": [
    "cat $RUNTIME_DIR/init.json | jq --raw-output '.unseal_keys_hex | to_entries[] | \"echo \\(.value) | pass add --multiline unseal-key-\\(.key);\"' |  xargs -t -d '\\n' -I {} sh -c \"{}\""
   ]
  },
  {
   "cell_type": "code",
   "execution_count": null,
   "id": "6cac55af-09ed-4faa-81a5-e28579889531",
   "metadata": {
    "tags": []
   },
   "outputs": [],
   "source": [
    "cat $RUNTIME_DIR/init.json | jq --raw-output '.root_token' | pass add --multiline root-token"
   ]
  },
  {
   "cell_type": "code",
   "execution_count": null,
   "id": "7963efb8-d296-4c87-8b11-1ab2c46520cf",
   "metadata": {
    "tags": []
   },
   "outputs": [],
   "source": [
    "vault status"
   ]
  },
  {
   "cell_type": "code",
   "execution_count": null,
   "id": "2929e9a8-65bc-456f-93d8-32a0ff3d30b0",
   "metadata": {
    "tags": []
   },
   "outputs": [],
   "source": [
    "vault operator unseal $(pass unseal-key-0)"
   ]
  },
  {
   "cell_type": "code",
   "execution_count": null,
   "id": "7966b110-115e-4925-91d1-655f846f77a1",
   "metadata": {
    "tags": []
   },
   "outputs": [],
   "source": [
    "vault operator unseal $(pass unseal-key-1)"
   ]
  },
  {
   "cell_type": "code",
   "execution_count": null,
   "id": "e11ae717-b587-45ac-8d65-d6261ebdece4",
   "metadata": {
    "tags": []
   },
   "outputs": [],
   "source": [
    "vault operator unseal $(pass unseal-key-2)"
   ]
  },
  {
   "cell_type": "code",
   "execution_count": null,
   "id": "bad3e29b-6f89-4e5f-9ffa-59ec8232b1c4",
   "metadata": {
    "tags": []
   },
   "outputs": [],
   "source": [
    "vault status"
   ]
  }
 ],
 "metadata": {
  "kernelspec": {
   "display_name": "Bash",
   "language": "bash",
   "name": "bash"
  },
  "language_info": {
   "codemirror_mode": "shell",
   "file_extension": ".sh",
   "mimetype": "text/x-sh",
   "name": "bash"
  }
 },
 "nbformat": 4,
 "nbformat_minor": 5
}
