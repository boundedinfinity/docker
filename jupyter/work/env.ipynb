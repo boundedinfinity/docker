{
 "cells": [
  {
   "cell_type": "code",
   "execution_count": null,
   "id": "998f93b6-bf5d-4446-ba64-efecd72091be",
   "metadata": {
    "tags": []
   },
   "outputs": [],
   "source": [
    "echo 'export RUNTIME_DIR=$HOME/runtime' | tee --append $HOME/.bashrc\n",
    "echo 'export WORK_DIR=$HOME/work' | tee --append $HOME/.bashrc\n",
    "echo 'export GNUPGHOME=$RUNTIME_DIR/gpg' | tee --append $HOME/.bashrc\n",
    "echo 'export PASSWORD_STORE_DIR=$RUNTIME_DIR/password-store' | tee --append $HOME/.bashrc\n",
    "echo 'export EXT_RUNTIME_DIR=$HOST_DIR/runtime' | tee --append $HOME/.bashrc"
   ]
  },
  {
   "cell_type": "code",
   "execution_count": null,
   "id": "e7961ce5-e446-4f47-b7a9-45261deb2797",
   "metadata": {
    "tags": []
   },
   "outputs": [],
   "source": [
    "echo $GNUPGHOME\n",
    "echo $PASSWORD_STORE_DIR\n",
    "echo $EXT_RUNTIME_DIR"
   ]
  },
  {
   "cell_type": "code",
   "execution_count": null,
   "id": "5a3aa5eb-c181-4b38-b728-5d449f2298b3",
   "metadata": {
    "tags": []
   },
   "outputs": [],
   "source": [
    "$WORK_DIR/gpg/bootstrap.bash"
   ]
  },
  {
   "cell_type": "markdown",
   "id": "a1c17518-5755-4ceb-874a-9bc373507545",
   "metadata": {},
   "source": [
    "![](./untitled.svg)"
   ]
  },
  {
   "cell_type": "code",
   "execution_count": null,
   "id": "0f6750d7-5619-44b5-8784-c5b03a3779c3",
   "metadata": {},
   "outputs": [],
   "source": []
  }
 ],
 "metadata": {
  "kernelspec": {
   "display_name": "Bash",
   "language": "bash",
   "name": "bash"
  },
  "language_info": {
   "codemirror_mode": "shell",
   "file_extension": ".sh",
   "mimetype": "text/x-sh",
   "name": "bash"
  }
 },
 "nbformat": 4,
 "nbformat_minor": 5
}
